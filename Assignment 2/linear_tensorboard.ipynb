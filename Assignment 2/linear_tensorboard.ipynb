{
 "cells": [
  {
   "cell_type": "code",
   "execution_count": 19,
   "metadata": {
    "id": "w4XKUG5hnDki"
   },
   "outputs": [],
   "source": [
    "import tensorflow as tf\n",
    "import numpy as np\n",
    "import os"
   ]
  },
  {
   "cell_type": "code",
   "execution_count": 20,
   "metadata": {
    "id": "83svGsfjnRsl"
   },
   "outputs": [],
   "source": [
    "(train_images, train_labels), (test_images, test_labels) = tf.keras.datasets.mnist.load_data()\n",
    "\n",
    "def preprocess_images(images):\n",
    "    return images.reshape(-1, 784).astype(np.float32) / 255\n",
    "\n",
    "def preprocess_labels(labels):\n",
    "    return labels.reshape(-1).astype(np.int32)\n",
    "\n",
    "train_images = preprocess_images(train_images)\n",
    "test_images = preprocess_images(test_images)\n",
    "train_labels = preprocess_labels(train_labels)\n",
    "test_labels = preprocess_labels(test_labels)\n",
    "\n",
    "train_data = tf.data.Dataset.from_tensor_slices((train_images, train_labels)).shuffle(60000).batch(128).repeat()\n",
    "#test_data = tf.data.Dataset.from_tensor_slices((test_images, test_labels)).batch(128)"
   ]
  },
  {
   "cell_type": "code",
   "execution_count": 21,
   "metadata": {
    "id": "3gWxUQMxncDR"
   },
   "outputs": [],
   "source": [
    "train_steps = 1000\n",
    "lr = 0.1\n",
    "\n",
    "W = tf.Variable(np.zeros([784, 10]).astype(np.float32))\n",
    "b = tf.Variable(np.zeros(10, dtype=np.float32))\n",
    "\n",
    "# first change: set up log dir and file writer(s)\n",
    "from datetime import datetime\n",
    "logdir = os.path.join(\"logs\", \"linear\" + str(datetime.now()))\n",
    "train_writer = tf.summary.create_file_writer(os.path.join(logdir, \"train\"))\n",
    "test_writer = tf.summary.create_file_writer(os.path.join(logdir, \"test\"))"
   ]
  },
  {
   "cell_type": "code",
   "execution_count": 22,
   "metadata": {
    "id": "fkWKtlpDoXI0"
   },
   "outputs": [
    {
     "name": "stdout",
     "output_type": "stream",
     "text": [
      "Training Loss: 2.3025851249694824 Accuracy: 0.109375\n",
      "Test accuracy: 0.3434999883174896\n",
      "\n",
      "Training Loss: 0.6413254737854004 Accuracy: 0.7890625\n",
      "Test accuracy: 0.8689000010490417\n",
      "\n",
      "Training Loss: 0.44259291887283325 Accuracy: 0.8984375\n",
      "Test accuracy: 0.885699987411499\n",
      "\n",
      "Training Loss: 0.395376056432724 Accuracy: 0.9140625\n",
      "Test accuracy: 0.8907999992370605\n",
      "\n",
      "Training Loss: 0.4814039170742035 Accuracy: 0.8671875\n",
      "Test accuracy: 0.8962999582290649\n",
      "\n",
      "Training Loss: 0.3444076180458069 Accuracy: 0.921875\n",
      "Test accuracy: 0.8999999761581421\n",
      "\n",
      "Training Loss: 0.4626608192920685 Accuracy: 0.8828125\n",
      "Test accuracy: 0.9021999835968018\n",
      "\n",
      "Training Loss: 0.3043449819087982 Accuracy: 0.921875\n",
      "Test accuracy: 0.9059999585151672\n",
      "\n",
      "Training Loss: 0.4015709161758423 Accuracy: 0.8984375\n",
      "Test accuracy: 0.9061999917030334\n",
      "\n",
      "Training Loss: 0.34627628326416016 Accuracy: 0.921875\n",
      "Test accuracy: 0.9088000059127808\n",
      "\n",
      "Training Loss: 0.3838801980018616 Accuracy: 0.8828125\n",
      "Test accuracy: 0.9095999598503113\n",
      "\n"
     ]
    }
   ],
   "source": [
    "for step, (image_batch, label_batch) in enumerate(train_data):\n",
    "    if step > train_steps:\n",
    "        break\n",
    "\n",
    "    with tf.GradientTape() as tape:\n",
    "        logits = tf.matmul(image_batch, W) + b\n",
    "        xent = tf.reduce_mean(tf.nn.sparse_softmax_cross_entropy_with_logits(\n",
    "            logits=logits, labels=label_batch))\n",
    "        \n",
    "    grads = tape.gradient(xent, [W, b])\n",
    "    W.assign_sub(lr * grads[0])\n",
    "    b.assign_sub(lr * grads[1])\n",
    "    \n",
    "    # change #2: log this stuff every time step (rather wasteful)\n",
    "    with train_writer.as_default():\n",
    "        tf.summary.scalar(\"loss\", xent, step=step)\n",
    "        tf.summary.histogram(\"logits\", logits, step=step)\n",
    "        tf.summary.histogram(\"weights\", W, step=step)\n",
    "    \n",
    "    if not step % 100:\n",
    "        preds = tf.argmax(logits, axis=1, output_type=tf.int32)\n",
    "        acc = tf.reduce_mean(tf.cast(tf.equal(preds, label_batch), tf.float32))\n",
    "        \n",
    "        # change #3: log this only once every 100 steps\n",
    "        with train_writer.as_default():\n",
    "            tf.summary.scalar(\"accuracy\", acc, step=step)\n",
    "            tf.summary.image(\"input\", tf.reshape(image_batch, [-1, 28, 28, 1]), step=step)\n",
    "            \n",
    "        test_preds = tf.argmax(tf.matmul(test_images, W) + b, axis=1, output_type=tf.int32)\n",
    "        test_acc = tf.reduce_mean(tf.cast(tf.equal(test_preds, test_labels), tf.float32))\n",
    "\n",
    "        \n",
    "        print(\"Training Loss: {} Accuracy: {}\".format(xent, acc))\n",
    "        print(\"Test accuracy: {}\\n\".format(test_acc))"
   ]
  },
  {
   "cell_type": "code",
   "execution_count": 23,
   "metadata": {
    "id": "lqV3Kk-Uoknm"
   },
   "outputs": [
    {
     "name": "stdout",
     "output_type": "stream",
     "text": [
      "The tensorboard extension is already loaded. To reload it, use:\n",
      "  %reload_ext tensorboard\n"
     ]
    }
   ],
   "source": [
    "# then load/run tensorboard\n",
    "\n",
    "%load_ext tensorboard"
   ]
  },
  {
   "cell_type": "code",
   "execution_count": 24,
   "metadata": {
    "id": "xSyjTI1zpsUH"
   },
   "outputs": [
    {
     "data": {
      "text/plain": [
       "Reusing TensorBoard on port 6006 (pid 93749), started 1:15:07 ago. (Use '!kill 93749' to kill it.)"
      ]
     },
     "metadata": {},
     "output_type": "display_data"
    },
    {
     "data": {
      "text/html": [
       "\n",
       "      <iframe id=\"tensorboard-frame-a53405082ab87bb1\" width=\"100%\" height=\"800\" frameborder=\"0\">\n",
       "      </iframe>\n",
       "      <script>\n",
       "        (function() {\n",
       "          const frame = document.getElementById(\"tensorboard-frame-a53405082ab87bb1\");\n",
       "          const url = new URL(\"http://localhost\");\n",
       "          const port = 6006;\n",
       "          if (port) {\n",
       "            url.port = port;\n",
       "          }\n",
       "          frame.src = url;\n",
       "        })();\n",
       "      </script>\n",
       "    "
      ],
      "text/plain": [
       "<IPython.core.display.HTML object>"
      ]
     },
     "metadata": {},
     "output_type": "display_data"
    }
   ],
   "source": [
    "%tensorboard --logdir logs"
   ]
  },
  {
   "cell_type": "code",
   "execution_count": null,
   "metadata": {
    "id": "ja9r06pjpurP"
   },
   "outputs": [],
   "source": []
  }
 ],
 "metadata": {
  "colab": {
   "collapsed_sections": [],
   "name": "linear_tb",
   "provenance": []
  },
  "kernelspec": {
   "display_name": "Python 3.10.4 64-bit",
   "language": "python",
   "name": "python3"
  },
  "language_info": {
   "codemirror_mode": {
    "name": "ipython",
    "version": 3
   },
   "file_extension": ".py",
   "mimetype": "text/x-python",
   "name": "python",
   "nbconvert_exporter": "python",
   "pygments_lexer": "ipython3",
   "version": "3.10.4"
  },
  "vscode": {
   "interpreter": {
    "hash": "aee8b7b246df8f9039afb4144a1f6fd8d2ca17a180786b69acc140d282b71a49"
   }
  }
 },
 "nbformat": 4,
 "nbformat_minor": 1
}
