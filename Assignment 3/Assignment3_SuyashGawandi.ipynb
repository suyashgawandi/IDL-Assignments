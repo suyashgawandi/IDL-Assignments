{
  "cells": [
    {
      "cell_type": "markdown",
      "metadata": {
        "id": "n-41EA7QIGS_"
      },
      "source": [
        "Submitted by: <br>\n",
        "Anurag Nagarkoti (239426), Wahab Haseeb Bhatti (239978), Suyash Gawandi (239716)"
      ]
    },
    {
      "cell_type": "code",
      "execution_count": 1,
      "metadata": {
        "id": "6ROV1jASxKZS"
      },
      "outputs": [
        {
          "name": "stderr",
          "output_type": "stream",
          "text": [
            "/Users/suyash/DKE/Semester5/IDL/mlvenv/lib/python3.9/site-packages/urllib3/__init__.py:34: NotOpenSSLWarning: urllib3 v2 only supports OpenSSL 1.1.1+, currently the 'ssl' module is compiled with 'LibreSSL 2.8.3'. See: https://github.com/urllib3/urllib3/issues/3020\n",
            "  warnings.warn(\n"
          ]
        }
      ],
      "source": [
        "import tensorflow as tf\n",
        "import numpy as np\n",
        "import matplotlib.pyplot as plt\n",
        "from tensorflow.keras import datasets, layers, models\n",
        "from tensorflow.keras.models import Model"
      ]
    },
    {
      "cell_type": "markdown",
      "metadata": {
        "id": "nNmtoHPNzJEZ"
      },
      "source": [
        "Load the data using Keras and print shape"
      ]
    },
    {
      "cell_type": "code",
      "execution_count": 2,
      "metadata": {
        "colab": {
          "base_uri": "https://localhost:8080/"
        },
        "id": "rk5IU6zWy0uq",
        "outputId": "a91c1878-2d49-4afb-f588-b154d1a4b633"
      },
      "outputs": [
        {
          "name": "stdout",
          "output_type": "stream",
          "text": [
            "train_images shape: (50000, 32, 32, 3)\n",
            "train_labels shape: (50000, 1)\n",
            "test_images shape: (10000, 32, 32, 3)\n",
            "test_labels shape: (10000, 1)\n"
          ]
        }
      ],
      "source": [
        "(train_images, train_labels),(test_images, test_labels) = tf.keras.datasets.cifar10.load_data()\n",
        "\n",
        "print(\"train_images shape: {}\".format(train_images.shape))\n",
        "print(\"train_labels shape: {}\".format(train_labels.shape))\n",
        "print(\"test_images shape: {}\".format(test_images.shape))\n",
        "print(\"test_labels shape: {}\".format(test_labels.shape))"
      ]
    },
    {
      "cell_type": "markdown",
      "metadata": {
        "id": "5f8GdtHI0t7-"
      },
      "source": [
        "Display a sample image"
      ]
    },
    {
      "cell_type": "code",
      "execution_count": 3,
      "metadata": {
        "colab": {
          "base_uri": "https://localhost:8080/",
          "height": 465
        },
        "id": "y9n2quYzzBo5",
        "outputId": "cf0f1858-b1ad-4d72-a1bd-564e05a4ac66"
      },
      "outputs": [
        {
          "name": "stdout",
          "output_type": "stream",
          "text": [
            "[6]\n"
          ]
        },
        {
          "data": {
            "text/plain": [
              "<matplotlib.image.AxesImage at 0x1618f22e0>"
            ]
          },
          "execution_count": 3,
          "metadata": {},
          "output_type": "execute_result"
        },
        {
          "data": {
            "image/png": "[encoded data removed]",
            "text/plain": [
              "<Figure size 640x480 with 1 Axes>"
            ]
          },
          "metadata": {},
          "output_type": "display_data"
        }
      ],
      "source": [
        "print(train_labels[132])\n",
        "plt.imshow(train_images[132])"
      ]
    },
    {
      "cell_type": "markdown",
      "metadata": {
        "id": "yMti8NN81i96"
      },
      "source": [
        "Reshaping the labels"
      ]
    },
    {
      "cell_type": "code",
      "execution_count": 4,
      "metadata": {
        "colab": {
          "base_uri": "https://localhost:8080/"
        },
        "id": "XoxO5oGs0s4L",
        "outputId": "1bae4555-3e00-401d-a91a-f93afd14bc6d"
      },
      "outputs": [
        {
          "name": "stdout",
          "output_type": "stream",
          "text": [
            "(10000,)\n"
          ]
        }
      ],
      "source": [
        "train_labels = train_labels.reshape((-1,)).astype(np.int32)\n",
        "test_labels  = test_labels.reshape((-1,)).astype(np.int32)\n",
        "print(test_labels.shape)"
      ]
    },
    {
      "cell_type": "markdown",
      "metadata": {
        "id": "B97pTg-2oVR-"
      },
      "source": [
        "# Model creation function with different filter sizes"
      ]
    },
    {
      "cell_type": "code",
      "execution_count": 5,
      "metadata": {
        "id": "2NKIMOkwWU4k"
      },
      "outputs": [],
      "source": [
        "def model_creation(filter_size):\n",
        "  model = models.Sequential()\n",
        "  model.add(layers.Conv2D(32, filter_size, activation='relu', input_shape=(32, 32, 3)))\n",
        "  model.add(layers.MaxPooling2D((2, 2)))\n",
        "  model.add(layers.Conv2D(64, filter_size, activation='relu'))\n",
        "  model.add(layers.MaxPooling2D((2, 2)))\n",
        "  model.add(layers.Conv2D(64, filter_size, activation='relu'))\n",
        "  model.add(layers.Flatten())\n",
        "  model.add(layers.Dense(64, activation='relu'))\n",
        "  model.add(layers.Dense(10))\n",
        "  return model"
      ]
    },
    {
      "cell_type": "markdown",
      "metadata": {
        "id": "NyGhqxnwpL7P"
      },
      "source": [
        "**3x3 filter size**"
      ]
    },
    {
      "cell_type": "code",
      "execution_count": 6,
      "metadata": {
        "colab": {
          "base_uri": "https://localhost:8080/"
        },
        "id": "anRB_DQYgUC9",
        "outputId": "a9aa6b04-c6e3-47ff-9035-c59ed4b32709"
      },
      "outputs": [
        {
          "name": "stdout",
          "output_type": "stream",
          "text": [
            "Epoch 1/10\n",
            "1563/1563 [==============================] - 16s 10ms/step - loss: 1.7990 - accuracy: 0.3897 - val_loss: 1.4145 - val_accuracy: 0.4906\n",
            "Epoch 2/10\n",
            "1563/1563 [==============================] - 17s 11ms/step - loss: 1.3447 - accuracy: 0.5190 - val_loss: 1.2525 - val_accuracy: 0.5550\n",
            "Epoch 3/10\n",
            "1563/1563 [==============================] - 16s 10ms/step - loss: 1.1860 - accuracy: 0.5827 - val_loss: 1.1533 - val_accuracy: 0.5968\n",
            "Epoch 4/10\n",
            "1563/1563 [==============================] - 16s 10ms/step - loss: 1.0702 - accuracy: 0.6243 - val_loss: 1.0598 - val_accuracy: 0.6320\n",
            "Epoch 5/10\n",
            "1563/1563 [==============================] - 16s 11ms/step - loss: 0.9784 - accuracy: 0.6589 - val_loss: 1.0768 - val_accuracy: 0.6288\n",
            "Epoch 6/10\n",
            "1563/1563 [==============================] - 16s 10ms/step - loss: 0.9174 - accuracy: 0.6777 - val_loss: 1.0348 - val_accuracy: 0.6426\n",
            "Epoch 7/10\n",
            "1563/1563 [==============================] - 16s 10ms/step - loss: 0.8527 - accuracy: 0.7004 - val_loss: 1.0350 - val_accuracy: 0.6524\n",
            "Epoch 8/10\n",
            "1563/1563 [==============================] - 18s 11ms/step - loss: 0.8047 - accuracy: 0.7196 - val_loss: 1.0320 - val_accuracy: 0.6566\n",
            "Epoch 9/10\n",
            "1563/1563 [==============================] - 17s 11ms/step - loss: 0.7616 - accuracy: 0.7333 - val_loss: 1.0899 - val_accuracy: 0.6470\n",
            "Epoch 10/10\n",
            "1563/1563 [==============================] - 17s 11ms/step - loss: 0.7259 - accuracy: 0.7485 - val_loss: 1.0444 - val_accuracy: 0.6562\n"
          ]
        }
      ],
      "source": [
        "with tf.device('/CPU:0'):\n",
        "\n",
        "    cnn = model_creation(3)\n",
        "\n",
        "    cnn.compile(optimizer='adam',\n",
        "                loss=tf.keras.losses.SparseCategoricalCrossentropy(from_logits=True),\n",
        "                metrics=['accuracy'])\n",
        "\n",
        "    cnn.fit(train_images, train_labels, epochs=10,\n",
        "                        validation_data=(test_images, test_labels))"
      ]
    },
    {
      "cell_type": "code",
      "execution_count": null,
      "metadata": {},
      "outputs": [
        {
          "name": "stdout",
          "output_type": "stream",
          "text": [
            "Epoch 1/10\n"
          ]
        },
        {
          "name": "stderr",
          "output_type": "stream",
          "text": [
            "2023-11-01 01:09:57.407431: I tensorflow/core/grappler/optimizers/custom_graph_optimizer_registry.cc:114] Plugin optimizer for device_type GPU is enabled.\n"
          ]
        },
        {
          "name": "stdout",
          "output_type": "stream",
          "text": [
            "1563/1563 [==============================] - ETA: 0s - loss: 2.5276 - accuracy: 0.1983"
          ]
        },
        {
          "name": "stderr",
          "output_type": "stream",
          "text": [
            "2023-11-01 01:10:15.778322: I tensorflow/core/grappler/optimizers/custom_graph_optimizer_registry.cc:114] Plugin optimizer for device_type GPU is enabled.\n"
          ]
        },
        {
          "name": "stdout",
          "output_type": "stream",
          "text": [
            "1563/1563 [==============================] - 20s 13ms/step - loss: 2.5276 - accuracy: 0.1983 - val_loss: 2.2067 - val_accuracy: 0.2659\n",
            "Epoch 2/10\n",
            "1563/1563 [==============================] - 20s 13ms/step - loss: 2.4168 - accuracy: 0.1438 - val_loss: 2.3034 - val_accuracy: 0.1001\n",
            "Epoch 3/10\n",
            "1563/1563 [==============================] - 20s 13ms/step - loss: 2.3029 - accuracy: 0.0981 - val_loss: 2.3026 - val_accuracy: 0.0998\n",
            "Epoch 4/10\n",
            "1563/1563 [==============================] - 19s 12ms/step - loss: 2.3032 - accuracy: 0.0977 - val_loss: 2.3028 - val_accuracy: 0.1000\n",
            "Epoch 5/10\n",
            "1563/1563 [==============================] - 19s 12ms/step - loss: 2.3029 - accuracy: 0.0990 - val_loss: 2.3029 - val_accuracy: 0.1000\n",
            "Epoch 6/10\n",
            "1563/1563 [==============================] - 19s 12ms/step - loss: 2.3039 - accuracy: 0.0985 - val_loss: 2.3029 - val_accuracy: 0.1000\n",
            "Epoch 7/10\n",
            "1563/1563 [==============================] - 19s 12ms/step - loss: 2.3031 - accuracy: 0.0979 - val_loss: 2.3028 - val_accuracy: 0.1000\n",
            "Epoch 8/10\n",
            "1563/1563 [==============================] - 20s 12ms/step - loss: 2.3032 - accuracy: 0.1001 - val_loss: 2.3030 - val_accuracy: 0.1000\n",
            "Epoch 9/10\n",
            "1563/1563 [==============================] - 20s 13ms/step - loss: 2.3033 - accuracy: 0.1010 - val_loss: 2.3031 - val_accuracy: 0.1000\n",
            "Epoch 10/10\n",
            "1563/1563 [==============================] - 20s 13ms/step - loss: 2.3035 - accuracy: 0.0967 - val_loss: 2.3041 - val_accuracy: 0.1000\n"
          ]
        }
      ],
      "source": [
        "with tf.device('/GPU:0'):\n",
        "\n",
        "    cnn = model_creation(3)\n",
        "\n",
        "    cnn.compile(optimizer='adam',\n",
        "                loss=tf.keras.losses.SparseCategoricalCrossentropy(from_logits=True),\n",
        "                metrics=['accuracy'])\n",
        "\n",
        "    cnn.fit(train_images, train_labels, epochs=10,\n",
        "                        validation_data=(test_images, test_labels))"
      ]
    },
    {
      "cell_type": "markdown",
      "metadata": {},
      "source": [
        "### Unrelated but noticed a difference in accuracies when trained on CPU vs GPU (Macbook Air M1), perhaps something with the low level implementation of tf?"
      ]
    },
    {
      "cell_type": "markdown",
      "metadata": {
        "id": "Hjz_vEGEohRO"
      },
      "source": [
        "**1x1 filter size**\n",
        "- In this case, the accuracy is really bad because the feature information extracted is very local."
      ]
    },
    {
      "cell_type": "code",
      "execution_count": null,
      "metadata": {
        "colab": {
          "base_uri": "https://localhost:8080/"
        },
        "id": "acADClbSrWlE",
        "outputId": "919f70bc-cc89-40af-fb60-351e0cd22225"
      },
      "outputs": [
        {
          "name": "stdout",
          "output_type": "stream",
          "text": [
            "Epoch 1/10\n",
            "1563/1563 [==============================] - 12s 8ms/step - loss: 2.5945 - accuracy: 0.0986 - val_loss: 2.3027 - val_accuracy: 0.1000\n",
            "Epoch 2/10\n",
            "1563/1563 [==============================] - 12s 8ms/step - loss: 2.3028 - accuracy: 0.0987 - val_loss: 2.3026 - val_accuracy: 0.1000\n",
            "Epoch 3/10\n",
            "1563/1563 [==============================] - 12s 8ms/step - loss: 2.3028 - accuracy: 0.0971 - val_loss: 2.3027 - val_accuracy: 0.1000\n",
            "Epoch 4/10\n",
            "1563/1563 [==============================] - 12s 8ms/step - loss: 2.3027 - accuracy: 0.1009 - val_loss: 2.3027 - val_accuracy: 0.1000\n",
            "Epoch 5/10\n",
            "1563/1563 [==============================] - 11s 7ms/step - loss: 2.3028 - accuracy: 0.0986 - val_loss: 2.3027 - val_accuracy: 0.1000\n",
            "Epoch 6/10\n",
            "1563/1563 [==============================] - 11s 7ms/step - loss: 2.3028 - accuracy: 0.0968 - val_loss: 2.3026 - val_accuracy: 0.1000\n",
            "Epoch 7/10\n",
            "1563/1563 [==============================] - 11s 7ms/step - loss: 2.3028 - accuracy: 0.0958 - val_loss: 2.3026 - val_accuracy: 0.1000\n",
            "Epoch 8/10\n",
            "1563/1563 [==============================] - 11s 7ms/step - loss: 2.3028 - accuracy: 0.1005 - val_loss: 2.3026 - val_accuracy: 0.1000\n",
            "Epoch 9/10\n",
            "1563/1563 [==============================] - 11s 7ms/step - loss: 2.3028 - accuracy: 0.0981 - val_loss: 2.3026 - val_accuracy: 0.1000\n",
            "Epoch 10/10\n",
            "1563/1563 [==============================] - 12s 8ms/step - loss: 2.3028 - accuracy: 0.0979 - val_loss: 2.3027 - val_accuracy: 0.1000\n"
          ]
        }
      ],
      "source": [
        "with tf.device('/CPU:0'):\n",
        "    cnn = model_creation(1)\n",
        "\n",
        "    cnn.compile(optimizer='adam',\n",
        "                loss=tf.keras.losses.SparseCategoricalCrossentropy(from_logits=True),\n",
        "                metrics=['accuracy'])\n",
        "\n",
        "    cnn.fit(train_images, train_labels, epochs=10,\n",
        "                        validation_data=(test_images, test_labels))"
      ]
    },
    {
      "cell_type": "markdown",
      "metadata": {
        "id": "M1aQ813DFbzO"
      },
      "source": [
        "**5x5 filter size** <br>\n",
        "Anything above 5x5 filter size resulted in output 0 as a result of downsampling. We can increase the input size to solve this problem."
      ]
    },
    {
      "cell_type": "code",
      "execution_count": null,
      "metadata": {
        "colab": {
          "base_uri": "https://localhost:8080/"
        },
        "id": "BE2-Wl0XE9l7",
        "outputId": "883f6364-a7c8-4f06-8bb8-80a9d764f3ce"
      },
      "outputs": [
        {
          "name": "stdout",
          "output_type": "stream",
          "text": [
            "Epoch 1/10\n",
            "1563/1563 [==============================] - 22s 14ms/step - loss: 1.6681 - accuracy: 0.4161 - val_loss: 1.4441 - val_accuracy: 0.4908\n",
            "Epoch 2/10\n",
            "1563/1563 [==============================] - 23s 15ms/step - loss: 1.3388 - accuracy: 0.5303 - val_loss: 1.3004 - val_accuracy: 0.5423\n",
            "Epoch 3/10\n",
            "1563/1563 [==============================] - 20s 13ms/step - loss: 1.2073 - accuracy: 0.5770 - val_loss: 1.2000 - val_accuracy: 0.5835\n",
            "Epoch 4/10\n",
            "1563/1563 [==============================] - 20s 13ms/step - loss: 1.1173 - accuracy: 0.6132 - val_loss: 1.1509 - val_accuracy: 0.6095\n",
            "Epoch 5/10\n",
            "1563/1563 [==============================] - 19s 12ms/step - loss: 1.0344 - accuracy: 0.6421 - val_loss: 1.1775 - val_accuracy: 0.6055\n",
            "Epoch 6/10\n",
            "1563/1563 [==============================] - 20s 13ms/step - loss: 0.9763 - accuracy: 0.6625 - val_loss: 1.2453 - val_accuracy: 0.5922\n",
            "Epoch 7/10\n",
            "1563/1563 [==============================] - 21s 13ms/step - loss: 0.9223 - accuracy: 0.6815 - val_loss: 1.0957 - val_accuracy: 0.6387\n",
            "Epoch 8/10\n",
            "1563/1563 [==============================] - 21s 13ms/step - loss: 0.8626 - accuracy: 0.7004 - val_loss: 1.1406 - val_accuracy: 0.6292\n",
            "Epoch 9/10\n",
            "1563/1563 [==============================] - 20s 13ms/step - loss: 0.8147 - accuracy: 0.7165 - val_loss: 1.1190 - val_accuracy: 0.6349\n",
            "Epoch 10/10\n",
            "1563/1563 [==============================] - 21s 13ms/step - loss: 0.7769 - accuracy: 0.7303 - val_loss: 1.1377 - val_accuracy: 0.6380\n"
          ]
        }
      ],
      "source": [
        "with tf.device('/CPU:0'):\n",
        "\n",
        "    cnn = model_creation(5)\n",
        "\n",
        "    cnn.compile(optimizer='adam',\n",
        "                loss=tf.keras.losses.SparseCategoricalCrossentropy(from_logits=True),\n",
        "                metrics=['accuracy'])\n",
        "\n",
        "    cnn.fit(train_images, train_labels, epochs=10,\n",
        "                        validation_data=(test_images, test_labels))"
      ]
    },
    {
      "cell_type": "markdown",
      "metadata": {
        "id": "6O1u509O1kD_"
      },
      "source": [
        "# Convolution strides vs pooling for downsampling\n",
        "\n",
        "1. Convolution with strides & no pooling"
      ]
    },
    {
      "cell_type": "code",
      "execution_count": null,
      "metadata": {
        "colab": {
          "base_uri": "https://localhost:8080/"
        },
        "id": "pgDVbwmKurMS",
        "outputId": "8d88deac-3955-418c-8f8e-3e2ae5c0ef33"
      },
      "outputs": [
        {
          "name": "stdout",
          "output_type": "stream",
          "text": [
            "Model: \"sequential_7\"\n",
            "_________________________________________________________________\n",
            " Layer (type)                Output Shape              Param #   \n",
            "=================================================================\n",
            " conv2d_21 (Conv2D)          (None, 15, 15, 32)        896       \n",
            "                                                                 \n",
            " conv2d_22 (Conv2D)          (None, 7, 7, 64)          18496     \n",
            "                                                                 \n",
            " conv2d_23 (Conv2D)          (None, 5, 5, 64)          36928     \n",
            "                                                                 \n",
            " flatten_7 (Flatten)         (None, 1600)              0         \n",
            "                                                                 \n",
            " dense_14 (Dense)            (None, 64)                102464    \n",
            "                                                                 \n",
            " dense_15 (Dense)            (None, 10)                650       \n",
            "                                                                 \n",
            "=================================================================\n",
            "Total params: 159434 (622.79 KB)\n",
            "Trainable params: 159434 (622.79 KB)\n",
            "Non-trainable params: 0 (0.00 Byte)\n",
            "_________________________________________________________________\n",
            "Epoch 1/10\n",
            "1563/1563 [==============================] - 9s 5ms/step - loss: 1.7191 - accuracy: 0.3880 - val_loss: 1.4341 - val_accuracy: 0.4820\n",
            "Epoch 2/10\n",
            "1563/1563 [==============================] - 8s 5ms/step - loss: 1.3496 - accuracy: 0.5200 - val_loss: 1.3388 - val_accuracy: 0.5235\n",
            "Epoch 3/10\n",
            "1563/1563 [==============================] - 8s 5ms/step - loss: 1.1888 - accuracy: 0.5790 - val_loss: 1.2453 - val_accuracy: 0.5686\n",
            "Epoch 4/10\n",
            "1563/1563 [==============================] - 9s 6ms/step - loss: 1.0731 - accuracy: 0.6229 - val_loss: 1.1223 - val_accuracy: 0.6111\n",
            "Epoch 5/10\n",
            "1563/1563 [==============================] - 8s 5ms/step - loss: 0.9735 - accuracy: 0.6576 - val_loss: 1.1050 - val_accuracy: 0.6221\n",
            "Epoch 6/10\n",
            "1563/1563 [==============================] - 8s 5ms/step - loss: 0.8892 - accuracy: 0.6882 - val_loss: 1.1382 - val_accuracy: 0.6115\n",
            "Epoch 7/10\n",
            "1563/1563 [==============================] - 8s 5ms/step - loss: 0.8208 - accuracy: 0.7112 - val_loss: 1.1441 - val_accuracy: 0.6110\n",
            "Epoch 8/10\n",
            "1563/1563 [==============================] - 8s 5ms/step - loss: 0.7652 - accuracy: 0.7300 - val_loss: 1.1982 - val_accuracy: 0.6150\n",
            "Epoch 9/10\n",
            "1563/1563 [==============================] - 8s 5ms/step - loss: 0.7077 - accuracy: 0.7515 - val_loss: 1.2281 - val_accuracy: 0.6271\n",
            "Epoch 10/10\n",
            "1563/1563 [==============================] - 8s 5ms/step - loss: 0.6655 - accuracy: 0.7666 - val_loss: 1.2704 - val_accuracy: 0.6135\n"
          ]
        }
      ],
      "source": [
        "with tf.device('/CPU:0'):\n",
        "\n",
        "\n",
        "    model = models.Sequential()\n",
        "    model.add(layers.Conv2D(32, 3, strides = (2,2),activation='relu', input_shape=(32, 32, 3)))\n",
        "    model.add(layers.Conv2D(64, 3, strides = (2,2),activation='relu'))\n",
        "    model.add(layers.Conv2D(64, 3, activation='relu'))\n",
        "    model.add(layers.Flatten())\n",
        "    model.add(layers.Dense(64, activation='relu'))\n",
        "    model.add(layers.Dense(10))\n",
        "\n",
        "    model.summary()\n",
        "\n",
        "    model.compile(optimizer='adam',\n",
        "                loss=tf.keras.losses.SparseCategoricalCrossentropy(from_logits=True),\n",
        "                metrics=['accuracy'])\n",
        "    model.fit(train_images, train_labels, epochs=10,\n",
        "                        validation_data=(test_images, test_labels))"
      ]
    },
    {
      "cell_type": "markdown",
      "metadata": {
        "id": "Hv42V0AO7ytW"
      },
      "source": [
        "2. Convolution with Max Pooling"
      ]
    },
    {
      "cell_type": "code",
      "execution_count": null,
      "metadata": {
        "colab": {
          "base_uri": "https://localhost:8080/"
        },
        "id": "JrZdTNLl741v",
        "outputId": "07efc315-8595-4a67-bfb9-2cbc07ca5f08"
      },
      "outputs": [
        {
          "name": "stdout",
          "output_type": "stream",
          "text": [
            "Model: \"sequential_10\"\n",
            "_________________________________________________________________\n",
            " Layer (type)                Output Shape              Param #   \n",
            "=================================================================\n",
            " conv2d_30 (Conv2D)          (None, 30, 30, 32)        896       \n",
            "                                                                 \n",
            " max_pooling2d_14 (MaxPooli  (None, 15, 15, 32)        0         \n",
            " ng2D)                                                           \n",
            "                                                                 \n",
            " conv2d_31 (Conv2D)          (None, 13, 13, 64)        18496     \n",
            "                                                                 \n",
            " max_pooling2d_15 (MaxPooli  (None, 6, 6, 64)          0         \n",
            " ng2D)                                                           \n",
            "                                                                 \n",
            " conv2d_32 (Conv2D)          (None, 4, 4, 64)          36928     \n",
            "                                                                 \n",
            " flatten_10 (Flatten)        (None, 1024)              0         \n",
            "                                                                 \n",
            " dense_20 (Dense)            (None, 64)                65600     \n",
            "                                                                 \n",
            " dense_21 (Dense)            (None, 10)                650       \n",
            "                                                                 \n",
            "=================================================================\n",
            "Total params: 122570 (478.79 KB)\n",
            "Trainable params: 122570 (478.79 KB)\n",
            "Non-trainable params: 0 (0.00 Byte)\n",
            "_________________________________________________________________\n",
            "Epoch 1/10\n",
            "1563/1563 [==============================] - 16s 10ms/step - loss: 1.8025 - accuracy: 0.3782 - val_loss: 1.4312 - val_accuracy: 0.4795\n",
            "Epoch 2/10\n",
            "1563/1563 [==============================] - 14s 9ms/step - loss: 1.3638 - accuracy: 0.5116 - val_loss: 1.2212 - val_accuracy: 0.5705\n",
            "Epoch 3/10\n",
            "1563/1563 [==============================] - 15s 9ms/step - loss: 1.2072 - accuracy: 0.5700 - val_loss: 1.2217 - val_accuracy: 0.5762\n",
            "Epoch 4/10\n",
            "1563/1563 [==============================] - 15s 10ms/step - loss: 1.1000 - accuracy: 0.6121 - val_loss: 1.1348 - val_accuracy: 0.6033\n",
            "Epoch 5/10\n",
            "1563/1563 [==============================] - 15s 10ms/step - loss: 1.0055 - accuracy: 0.6470 - val_loss: 1.0840 - val_accuracy: 0.6257\n",
            "Epoch 6/10\n",
            "1563/1563 [==============================] - 15s 10ms/step - loss: 0.9354 - accuracy: 0.6720 - val_loss: 1.0210 - val_accuracy: 0.6471\n",
            "Epoch 7/10\n",
            "1563/1563 [==============================] - 16s 10ms/step - loss: 0.8762 - accuracy: 0.6927 - val_loss: 1.0276 - val_accuracy: 0.6462\n",
            "Epoch 8/10\n",
            "1563/1563 [==============================] - 16s 10ms/step - loss: 0.8130 - accuracy: 0.7144 - val_loss: 1.0662 - val_accuracy: 0.6475\n",
            "Epoch 9/10\n",
            "1563/1563 [==============================] - 16s 10ms/step - loss: 0.7663 - accuracy: 0.7326 - val_loss: 1.1838 - val_accuracy: 0.6234\n",
            "Epoch 10/10\n",
            "1563/1563 [==============================] - 17s 11ms/step - loss: 0.7288 - accuracy: 0.7459 - val_loss: 1.0566 - val_accuracy: 0.6614\n"
          ]
        }
      ],
      "source": [
        "with tf.device('/CPU:0'):\n",
        "\n",
        "    model = models.Sequential()\n",
        "    model.add(layers.Conv2D(32, 3, strides=(1,1), activation='relu', input_shape=(32, 32, 3)))\n",
        "    model.add(layers.MaxPooling2D((2, 2)))\n",
        "    model.add(layers.Conv2D(64, 3, strides=(1,1), activation='relu'))\n",
        "    model.add(layers.MaxPooling2D((2, 2)))\n",
        "    model.add(layers.Conv2D(64, 3, strides=(1,1), activation='relu'))\n",
        "    model.add(layers.Flatten())\n",
        "    model.add(layers.Dense(64, activation='relu'))\n",
        "    model.add(layers.Dense(10))\n",
        "\n",
        "    model.summary()\n",
        "\n",
        "\n",
        "    model.compile(optimizer='adam',\n",
        "                loss=tf.keras.losses.SparseCategoricalCrossentropy(from_logits=True),\n",
        "                metrics=['accuracy'])\n",
        "\n",
        "    model.fit(train_images, train_labels, epochs=10,\n",
        "                        validation_data=(test_images, test_labels))"
      ]
    },
    {
      "cell_type": "code",
      "execution_count": null,
      "metadata": {},
      "outputs": [
        {
          "name": "stdout",
          "output_type": "stream",
          "text": [
            "Model: \"sequential_15\"\n",
            "_________________________________________________________________\n",
            " Layer (type)                Output Shape              Param #   \n",
            "=================================================================\n",
            " conv2d_46 (Conv2D)          (None, 15, 15, 32)        896       \n",
            "                                                                 \n",
            " conv2d_47 (Conv2D)          (None, 7, 7, 64)          18496     \n",
            "                                                                 \n",
            " conv2d_48 (Conv2D)          (None, 5, 5, 128)         73856     \n",
            "                                                                 \n",
            " average_pooling2d_4 (Avera  (None, 2, 2, 128)         0         \n",
            " gePooling2D)                                                    \n",
            "                                                                 \n",
            " flatten_14 (Flatten)        (None, 512)               0         \n",
            "                                                                 \n",
            " dense_28 (Dense)            (None, 64)                32832     \n",
            "                                                                 \n",
            " dense_29 (Dense)            (None, 10)                650       \n",
            "                                                                 \n",
            "=================================================================\n",
            "Total params: 126730 (495.04 KB)\n",
            "Trainable params: 126730 (495.04 KB)\n",
            "Non-trainable params: 0 (0.00 Byte)\n",
            "_________________________________________________________________\n",
            "Epoch 1/10\n",
            "1563/1563 [==============================] - 10s 6ms/step - loss: 1.7306 - accuracy: 0.4097 - val_loss: 1.4329 - val_accuracy: 0.4745\n",
            "Epoch 2/10\n",
            "1563/1563 [==============================] - 10s 6ms/step - loss: 1.3087 - accuracy: 0.5378 - val_loss: 1.2974 - val_accuracy: 0.5456\n",
            "Epoch 3/10\n",
            "1563/1563 [==============================] - 10s 6ms/step - loss: 1.1605 - accuracy: 0.5953 - val_loss: 1.2089 - val_accuracy: 0.5838\n",
            "Epoch 4/10\n",
            "1563/1563 [==============================] - 17s 11ms/step - loss: 1.0481 - accuracy: 0.6326 - val_loss: 1.1244 - val_accuracy: 0.6179\n",
            "Epoch 5/10\n",
            "1563/1563 [==============================] - 12s 8ms/step - loss: 0.9612 - accuracy: 0.6638 - val_loss: 1.1373 - val_accuracy: 0.6140\n",
            "Epoch 6/10\n",
            "1563/1563 [==============================] - 12s 8ms/step - loss: 0.8771 - accuracy: 0.6958 - val_loss: 1.1814 - val_accuracy: 0.6169\n",
            "Epoch 7/10\n",
            "1563/1563 [==============================] - 10s 7ms/step - loss: 0.7977 - accuracy: 0.7217 - val_loss: 1.1801 - val_accuracy: 0.6181\n",
            "Epoch 8/10\n",
            "1563/1563 [==============================] - 12s 7ms/step - loss: 0.7397 - accuracy: 0.7400 - val_loss: 1.2499 - val_accuracy: 0.6108\n",
            "Epoch 9/10\n",
            "1563/1563 [==============================] - 11s 7ms/step - loss: 0.6752 - accuracy: 0.7632 - val_loss: 1.2122 - val_accuracy: 0.6288\n",
            "Epoch 10/10\n",
            "1563/1563 [==============================] - 11s 7ms/step - loss: 0.6300 - accuracy: 0.7790 - val_loss: 1.2541 - val_accuracy: 0.6250\n"
          ]
        }
      ],
      "source": [
        "with tf.device('/CPU:0'):\n",
        "\n",
        "    model = models.Sequential()\n",
        "    model.add(layers.Conv2D(32, 3, strides=(2,2), activation='relu', input_shape=(32, 32, 3)))\n",
        "    model.add(layers.Conv2D(64, 3, strides=(2,2), activation='relu'))\n",
        "    model.add(layers.Conv2D(128, 3, strides=(1,1), activation='relu'))\n",
        "    model.add(layers.AveragePooling2D((2, 2)))\n",
        "    model.add(layers.Flatten())\n",
        "    model.add(layers.Dense(64, activation='relu'))\n",
        "    model.add(layers.Dense(10))\n",
        "\n",
        "    model.summary()\n",
        "\n",
        "\n",
        "    model.compile(optimizer='adam',\n",
        "                loss=tf.keras.losses.SparseCategoricalCrossentropy(from_logits=True),\n",
        "                metrics=['accuracy'])\n",
        "\n",
        "    model.fit(train_images, train_labels, epochs=10,\n",
        "                        validation_data=(test_images, test_labels))"
      ]
    },
    {
      "cell_type": "markdown",
      "metadata": {},
      "source": [
        "### Average pooling with Filter Size = Input"
      ]
    },
    {
      "cell_type": "code",
      "execution_count": null,
      "metadata": {},
      "outputs": [
        {
          "name": "stdout",
          "output_type": "stream",
          "text": [
            "Model: \"sequential_23\"\n",
            "_________________________________________________________________\n",
            " Layer (type)                Output Shape              Param #   \n",
            "=================================================================\n",
            " conv2d_66 (Conv2D)          (None, 32, 32, 32)        98336     \n",
            "                                                                 \n",
            " conv2d_67 (Conv2D)          (None, 30, 30, 64)        18496     \n",
            "                                                                 \n",
            " conv2d_68 (Conv2D)          (None, 28, 28, 128)       73856     \n",
            "                                                                 \n",
            " average_pooling2d_7 (Avera  (None, 14, 14, 128)       0         \n",
            " gePooling2D)                                                    \n",
            "                                                                 \n",
            " flatten_17 (Flatten)        (None, 25088)             0         \n",
            "                                                                 \n",
            " dense_34 (Dense)            (None, 64)                1605696   \n",
            "                                                                 \n",
            " dense_35 (Dense)            (None, 10)                650       \n",
            "                                                                 \n",
            "=================================================================\n",
            "Total params: 1797034 (6.86 MB)\n",
            "Trainable params: 1797034 (6.86 MB)\n",
            "Non-trainable params: 0 (0.00 Byte)\n",
            "_________________________________________________________________\n",
            "Epoch 1/10\n",
            " 483/1563 [========>.....................] - ETA: 3:54 - loss: 3.8950 - accuracy: 0.1048"
          ]
        }
      ],
      "source": [
        "with tf.device('/CPU:0'):\n",
        "\n",
        "    model = models.Sequential()\n",
        "    model.add(layers.Conv2D(32, (32,32), strides=(1,1), activation='relu', input_shape=(32, 32, 3),padding='same'))\n",
        "    model.add(layers.Conv2D(64, 3, strides=(1,1), activation='relu'))\n",
        "    model.add(layers.Conv2D(128, 3, strides=(1,1), activation='relu'))\n",
        "    model.add(layers.AveragePooling2D((2, 2)))\n",
        "    model.add(layers.Flatten())\n",
        "    model.add(layers.Dense(64, activation='relu'))\n",
        "    model.add(layers.Dense(10))\n",
        "\n",
        "    model.summary()\n",
        "\n",
        "\n",
        "    model.compile(optimizer='adam',\n",
        "                loss=tf.keras.losses.SparseCategoricalCrossentropy(from_logits=True),\n",
        "                metrics=['accuracy'])\n",
        "\n",
        "    model.fit(train_images, train_labels, epochs=10,\n",
        "                        validation_data=(test_images, test_labels))"
      ]
    },
    {
      "cell_type": "markdown",
      "metadata": {
        "id": "uzSkEVtXIUh6"
      },
      "source": [
        "# Feature Maps\n",
        "### Visualing feature maps generated from the first convolutional layer"
      ]
    },
    {
      "cell_type": "code",
      "execution_count": null,
      "metadata": {},
      "outputs": [
        {
          "name": "stdout",
          "output_type": "stream",
          "text": [
            "0 conv2d_18 (None, 30, 30, 32)\n",
            "2 conv2d_19 (None, 13, 13, 64)\n",
            "4 conv2d_20 (None, 4, 4, 64)\n"
          ]
        }
      ],
      "source": [
        "for i in range(len(cnn.layers)):\n",
        "    layer = cnn.layers[i]\n",
        "    if 'conv' not in layer.name:\n",
        "        continue    \n",
        "    print(i , layer.name , layer.output.shape)"
      ]
    },
    {
      "cell_type": "code",
      "execution_count": null,
      "metadata": {
        "id": "Q5TU-CvyIet-"
      },
      "outputs": [],
      "source": [
        "featureMapModel= Model(inputs=cnn.inputs, outputs= cnn.layers[0].output)"
      ]
    },
    {
      "cell_type": "code",
      "execution_count": null,
      "metadata": {
        "colab": {
          "base_uri": "https://localhost:8080/",
          "height": 447
        },
        "id": "5agdbDYOIp_u",
        "outputId": "11ad7a44-f902-4b89-a8bc-3e85511c8514"
      },
      "outputs": [
        {
          "name": "stdout",
          "output_type": "stream",
          "text": [
            "WARNING:tensorflow:6 out of the last 6 calls to <function Model.make_predict_function.<locals>.predict_function at 0x2d87da170> triggered tf.function retracing. Tracing is expensive and the excessive number of tracings could be due to (1) creating @tf.function repeatedly in a loop, (2) passing tensors with different shapes, (3) passing Python objects instead of tensors. For (1), please define your @tf.function outside of the loop. For (2), @tf.function has reduce_retracing=True option that can avoid unnecessary retracing. For (3), please refer to https://www.tensorflow.org/guide/function#controlling_retracing and https://www.tensorflow.org/api_docs/python/tf/function for  more details.\n",
            "1/1 [==============================] - 0s 34ms/step\n"
          ]
        },
        {
          "name": "stderr",
          "output_type": "stream",
          "text": [
            "2023-11-01 01:43:54.410508: I tensorflow/core/grappler/optimizers/custom_graph_optimizer_registry.cc:114] Plugin optimizer for device_type GPU is enabled.\n"
          ]
        },
        {
          "data": {
            "image/png": "[encoded data removed]",
            "text/plain": [
              "<Figure size 640x480 with 1 Axes>"
            ]
          },
          "metadata": {},
          "output_type": "display_data"
        }
      ],
      "source": [
        "feature_image=train_images[136]\n",
        "plt.imshow(feature_image)\n",
        "feature_image= np.reshape(feature_image, (-1, 32,32,3))\n",
        "features= featureMapModel.predict(feature_image)"
      ]
    },
    {
      "cell_type": "code",
      "execution_count": null,
      "metadata": {
        "colab": {
          "base_uri": "https://localhost:8080/",
          "height": 629
        },
        "id": "eGefu3qpIts4",
        "outputId": "9d511f1f-0521-4b7d-c70c-0145f0e08e65"
      },
      "outputs": [
        {
          "data": {
            "image/png": "[encoded data removed]",
            "text/plain": [
              "<Figure size 2000x1500 with 32 Axes>"
            ]
          },
          "metadata": {},
          "output_type": "display_data"
        }
      ],
      "source": [
        "from matplotlib import pyplot\n",
        "\n",
        "fig = pyplot.figure(figsize=(20,15))\n",
        "for i in range(1,features.shape[3]+1):\n",
        "    pyplot.subplot(8,8,i)\n",
        "    pyplot.imshow(features[0,:,:,i-1] , cmap='gray')\n",
        "\n",
        "pyplot.show()"
      ]
    }
  ],
  "metadata": {
    "accelerator": "GPU",
    "colab": {
      "provenance": []
    },
    "kernelspec": {
      "display_name": "Python 3.9.6 ('mlvenv': venv)",
      "language": "python",
      "name": "python3"
    },
    "language_info": {
      "codemirror_mode": {
        "name": "ipython",
        "version": 3
      },
      "file_extension": ".py",
      "mimetype": "text/x-python",
      "name": "python",
      "nbconvert_exporter": "python",
      "pygments_lexer": "ipython3",
      "version": "3.9.6"
    },
    "vscode": {
      "interpreter": {
        "hash": "64a8c89df53ad5f3d152b7bb009c1bd987a1bede8454d290b9988b0ada3ab72f"
      }
    }
  },
  "nbformat": 4,
  "nbformat_minor": 0
}
